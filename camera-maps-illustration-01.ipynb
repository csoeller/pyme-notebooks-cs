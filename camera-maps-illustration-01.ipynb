{
 "cells": [
  {
   "cell_type": "markdown",
   "metadata": {
    "deletable": true,
    "editable": true
   },
   "source": [
    "# Demonstration of the PYME camera map infrastructure\n",
    "\n",
    "## With applications to test CMOS image algorithms"
   ]
  },
  {
   "cell_type": "code",
   "execution_count": 1,
   "metadata": {
    "collapsed": true,
    "deletable": true,
    "editable": true
   },
   "outputs": [],
   "source": [
    "# some useful imports\n",
    "import numpy as np\n",
    "import matplotlib.pyplot as plt"
   ]
  },
  {
   "cell_type": "code",
   "execution_count": 2,
   "metadata": {
    "collapsed": true,
    "deletable": true,
    "editable": true
   },
   "outputs": [],
   "source": [
    "# import our io and map handling routines\n",
    "from PYME.localization.remFitBuf import CameraInfoManager\n",
    "ci = CameraInfoManager()\n",
    "\n",
    "import PYME.Analysis.gen_sCMOS_maps as gmaps\n",
    "from PYME.IO.MetaDataHandler import NestedClassMDHandler\n",
    "\n",
    "md = NestedClassMDHandler()"
   ]
  },
  {
   "cell_type": "markdown",
   "metadata": {
    "deletable": true,
    "editable": true
   },
   "source": [
    "### Making a test metadata structure\n",
    "\n",
    "Here we make a metadata structure from scratch to test the infrastructure of reading maps which matches in terms of camera data and ROI size etc.\n",
    "\n",
    "For actual data this metadata should be directly supplied by the metadata stored with the acquired data."
   ]
  },
  {
   "cell_type": "code",
   "execution_count": 7,
   "metadata": {
    "collapsed": false,
    "deletable": true,
    "editable": true
   },
   "outputs": [
    {
     "name": "stdout",
     "output_type": "stream",
     "text": [
      "ROI half size is 7\n"
     ]
    }
   ],
   "source": [
    "def ROISZscale(md,refsize=7,refscale=0.1,minsize=5):\n",
    "    roisize = max(int(refsize*refscale/md['voxelsize.x']+0.9),minsize)\n",
    "    print 'ROI half size is %d' % roisize\n",
    "    return roisize\n",
    "\n",
    "md['voxelsize.x'] = 0.1\n",
    "md['voxelsize.y'] = 0.1\n",
    "md['voxelsize.z'] = 0.05\n",
    "\n",
    "#what ROI size should we use\n",
    "ROI_HALF_SIZE = ROISZscale(md)\n",
    "ROI_SIZE = 2*ROI_HALF_SIZE + 1\n",
    "\n",
    "md['Camera.ADOffset'] = 100.0\n",
    "md['Camera.EMGain'] = 1.0\n",
    "md['Camera.ElectronsPerCount'] = 0.5\n",
    "md['Camera.NoiseFactor'] = 1.0 #ignored / calculated de-novo for simulation\n",
    "md['Camera.ReadNoise'] = 1.4 #ignored for sCMOS\n",
    "md['Camera.TrueEMGain'] = 1.0\n",
    "\n",
    "#NB ROI width and height in metadata must match the simulation ROI size\n",
    "md['Camera.ROIHeight'] = ROI_SIZE\n",
    "md['Camera.ROIPosX'] = 415\n",
    "md['Camera.ROIPosY'] = 166\n",
    "md['Camera.ROIWidth'] = ROI_SIZE\n",
    "\n",
    "md['Camera.SerialNumber'] = 'VSC-02858'\n",
    "\n",
    "md['Camera.IntegrationTime'] = 0.1"
   ]
  },
  {
   "cell_type": "code",
   "execution_count": 8,
   "metadata": {
    "collapsed": false,
    "deletable": true,
    "editable": true
   },
   "outputs": [
    {
     "name": "stdout",
     "output_type": "stream",
     "text": [
      "Dark map path is /Users/csoe002/PYMEData/CALIBRATION/VSC-02858/dark_100ms.tif\n",
      "Variance map path is /Users/csoe002/PYMEData/CALIBRATION/VSC-02858/variance_100ms.tif\n"
     ]
    }
   ],
   "source": [
    "try:\n",
    "    darkname = gmaps.mkDefaultPath('dark',md,create=False)\n",
    "except ValueError:\n",
    "    print 'calibration dir for camera does not exist'\n",
    "try:\n",
    "    varname = gmaps.mkDefaultPath('variance',md,create=False)\n",
    "except ValueError:\n",
    "    print 'calibration dir for camera does not exist'\n",
    "\n",
    "print('Dark map path is %s' % darkname)\n",
    "print('Variance map path is %s' % varname)\n",
    "md['Camera.DarkMapID'] = darkname\n",
    "md['Camera.VarianceMapID'] = varname"
   ]
  },
  {
   "cell_type": "code",
   "execution_count": 9,
   "metadata": {
    "collapsed": false,
    "deletable": true,
    "editable": true
   },
   "outputs": [
    {
     "name": "stdout",
     "output_type": "stream",
     "text": [
      "filename == /Users/csoe002/PYMEData/CALIBRATION/VSC-02858/variance_100ms.tif\n",
      "/Users/csoe002/PYMEData/CALIBRATION/VSC-02858/variance_100ms.tif\n",
      "[2048, 2048, 1, 1]\n",
      "[2048, 2048, 1, 1]\n",
      "filename == /Users/csoe002/PYMEData/CALIBRATION/VSC-02858/dark_100ms.tif\n",
      "/Users/csoe002/PYMEData/CALIBRATION/VSC-02858/dark_100ms.tif\n",
      "[2048, 2048, 1, 1]\n",
      "[2048, 2048, 1, 1]\n"
     ]
    }
   ],
   "source": [
    "# based on all of this, the 'gain' according to the *** paper\n",
    "# should be\n",
    "#     gain = 1.0/(flat*mdh['Camera.ElectronsPerCount'])\n",
    "\n",
    "# we need to figure out what we actually need, in terms of units\n",
    "gain = 1.0/(ci.getFlatfieldMap(md)*md['Camera.ElectronsPerCount']) # in units of ADUperElectron\n",
    "var = ci.getVarianceMap(md) # in electron^2\n",
    "offset = ci.getDarkMap(md) # in ADUs\n"
   ]
  },
  {
   "cell_type": "code",
   "execution_count": 21,
   "metadata": {
    "collapsed": false,
    "deletable": true,
    "editable": true
   },
   "outputs": [],
   "source": [
    "# this one we only need for interactive checks in a separate window - very convenient as we share the kernal and namespace for quick code evaluations\n",
    "# %qtconsole"
   ]
  }
 ],
 "metadata": {
  "kernelspec": {
   "display_name": "Python 2",
   "language": "python",
   "name": "python2"
  },
  "language_info": {
   "codemirror_mode": {
    "name": "ipython",
    "version": 2
   },
   "file_extension": ".py",
   "mimetype": "text/x-python",
   "name": "python",
   "nbconvert_exporter": "python",
   "pygments_lexer": "ipython2",
   "version": "2.7.11"
  }
 },
 "nbformat": 4,
 "nbformat_minor": 2
}
